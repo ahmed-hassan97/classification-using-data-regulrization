{
  "nbformat": 4,
  "nbformat_minor": 0,
  "metadata": {
    "colab": {
      "name": "Untitled6.ipynb",
      "provenance": [],
      "authorship_tag": "ABX9TyNg2ve49s7n9j5o/0Lo4lm5",
      "include_colab_link": true
    },
    "kernelspec": {
      "name": "python3",
      "display_name": "Python 3"
    }
  },
  "cells": [
    {
      "cell_type": "markdown",
      "metadata": {
        "id": "view-in-github",
        "colab_type": "text"
      },
      "source": [
        "<a href=\"https://colab.research.google.com/github/ahmedhassan97/classification-using-data-regulrization/blob/master/Untitled6.ipynb\" target=\"_parent\"><img src=\"https://colab.research.google.com/assets/colab-badge.svg\" alt=\"Open In Colab\"/></a>"
      ]
    },
    {
      "cell_type": "code",
      "metadata": {
        "id": "ZC4brn42a17c",
        "colab_type": "code",
        "colab": {}
      },
      "source": [
        "import numpy as np\n",
        "import pandas as pd\n",
        "import matplotlib.pyplot as plt\n",
        "import scipy.optimize as opt"
      ],
      "execution_count": 0,
      "outputs": []
    },
    {
      "cell_type": "code",
      "metadata": {
        "id": "BDco6b0-dF9t",
        "colab_type": "code",
        "colab": {}
      },
      "source": [
        "path = 'data.csv'\n",
        "data = pd.read_csv(path, header=None,\n",
        "names=['Test 1', 'Test 2', 'Accepted'])"
      ],
      "execution_count": 0,
      "outputs": []
    },
    {
      "cell_type": "code",
      "metadata": {
        "id": "dt2JOt_mdVBt",
        "colab_type": "code",
        "colab": {
          "base_uri": "https://localhost:8080/",
          "height": 408
        },
        "outputId": "b564ab4c-40a7-434c-f0f5-9c76e8dbfb1f"
      },
      "source": [
        "print('data = ')\n",
        "print(data.head(10) )\n",
        "print('................................................')\n",
        "print('data.describe = ')\n",
        "print(data.describe())\n",
        "positive = data[data['Accepted'].isin([1])]\n",
        "negative = data[data['Accepted'].isin([0])]\n"
      ],
      "execution_count": 5,
      "outputs": [
        {
          "output_type": "stream",
          "text": [
            "data = \n",
            "     Test 1    Test 2  Accepted\n",
            "0  0.051267  0.699560         1\n",
            "1 -0.092742  0.684940         1\n",
            "2 -0.213710  0.692250         1\n",
            "3 -0.375000  0.502190         1\n",
            "4 -0.513250  0.465640         1\n",
            "5 -0.524770  0.209800         1\n",
            "6 -0.398040  0.034357         1\n",
            "7 -0.305880 -0.192250         1\n",
            "8  0.016705 -0.404240         1\n",
            "9  0.131910 -0.513890         1\n",
            "................................................\n",
            "data.describe = \n",
            "           Test 1      Test 2    Accepted\n",
            "count  118.000000  118.000000  118.000000\n",
            "mean     0.054779    0.183102    0.491525\n",
            "std      0.496654    0.519743    0.502060\n",
            "min     -0.830070   -0.769740    0.000000\n",
            "25%     -0.372120   -0.254385    0.000000\n",
            "50%     -0.006336    0.213455    0.000000\n",
            "75%      0.478970    0.646562    1.000000\n",
            "max      1.070900    1.108900    1.000000\n"
          ],
          "name": "stdout"
        }
      ]
    },
    {
      "cell_type": "code",
      "metadata": {
        "id": "DaGRtUwddeRx",
        "colab_type": "code",
        "colab": {}
      },
      "source": [
        "#print('................................................')\n",
        "#print('positive data')\n",
        "#print(positive)\n",
        "#print('................................................')\n",
        "#print('negative data')\n",
        "#print(negative)\n",
        "#print('................................................')\n",
        "#"
      ],
      "execution_count": 0,
      "outputs": []
    },
    {
      "cell_type": "code",
      "metadata": {
        "id": "qsUSP-QUdiDF",
        "colab_type": "code",
        "colab": {
          "base_uri": "https://localhost:8080/",
          "height": 351
        },
        "outputId": "71de557e-3903-4e09-ecfc-d966291e0b8a"
      },
      "source": [
        "fig, ax = plt.subplots(figsize=(5,5))\n",
        "ax.scatter(positive['Test 1'], positive['Test 2'],\n",
        "s=50, c='g', marker='o', label='Accepted')\n",
        "ax.scatter(negative['Test 1'], negative['Test 2'],\n",
        "s=50, c='r', marker='x', label='Rejected')\n",
        "ax.legend()\n",
        "ax.set_xlabel('Test 1 Score')\n",
        "ax.set_ylabel('Test 2 Score')\n",
        "print('................................................')"
      ],
      "execution_count": 6,
      "outputs": [
        {
          "output_type": "stream",
          "text": [
            "................................................\n"
          ],
          "name": "stdout"
        },
        {
          "output_type": "display_data",
          "data": {
            "image/png": "[encoded data removed]",
            "text/plain": [
              "<Figure size 360x360 with 1 Axes>"
            ]
          },
          "metadata": {
            "tags": []
          }
        }
      ]
    },
    {
      "cell_type": "code",
      "metadata": {
        "id": "N29bUfD0d2qR",
        "colab_type": "code",
        "colab": {
          "base_uri": "https://localhost:8080/",
          "height": 459
        },
        "outputId": "f326c0ef-7523-4e93-f5d0-c18643f80bef"
      },
      "source": [
        "degree = 5\n",
        "x1 = data['Test 1']\n",
        "x2 = data['Test 2']\n",
        "print('x1 \\n' ,x1.head(10))\n",
        "print('................................................')\n",
        "print('x2 \\n' ,x2.head(10))\n",
        "print('................................................')"
      ],
      "execution_count": 7,
      "outputs": [
        {
          "output_type": "stream",
          "text": [
            "x1 \n",
            " 0    0.051267\n",
            "1   -0.092742\n",
            "2   -0.213710\n",
            "3   -0.375000\n",
            "4   -0.513250\n",
            "5   -0.524770\n",
            "6   -0.398040\n",
            "7   -0.305880\n",
            "8    0.016705\n",
            "9    0.131910\n",
            "Name: Test 1, dtype: float64\n",
            "................................................\n",
            "x2 \n",
            " 0    0.699560\n",
            "1    0.684940\n",
            "2    0.692250\n",
            "3    0.502190\n",
            "4    0.465640\n",
            "5    0.209800\n",
            "6    0.034357\n",
            "7   -0.192250\n",
            "8   -0.404240\n",
            "9   -0.513890\n",
            "Name: Test 2, dtype: float64\n",
            "................................................\n"
          ],
          "name": "stdout"
        }
      ]
    },
    {
      "cell_type": "code",
      "metadata": {
        "id": "knrverT9eFNf",
        "colab_type": "code",
        "colab": {
          "base_uri": "https://localhost:8080/",
          "height": 238
        },
        "outputId": "0dd392a5-1d4c-47e7-a765-8a179bbd3f82"
      },
      "source": [
        "data.insert(3, 'Ones', 1) # adding x0\n",
        "print('data \\n' , data.head(10))\n",
        "print('................................................')"
      ],
      "execution_count": 8,
      "outputs": [
        {
          "output_type": "stream",
          "text": [
            "data \n",
            "      Test 1    Test 2  Accepted  Ones\n",
            "0  0.051267  0.699560         1     1\n",
            "1 -0.092742  0.684940         1     1\n",
            "2 -0.213710  0.692250         1     1\n",
            "3 -0.375000  0.502190         1     1\n",
            "4 -0.513250  0.465640         1     1\n",
            "5 -0.524770  0.209800         1     1\n",
            "6 -0.398040  0.034357         1     1\n",
            "7 -0.305880 -0.192250         1     1\n",
            "8  0.016705 -0.404240         1     1\n",
            "9  0.131910 -0.513890         1     1\n",
            "................................................\n"
          ],
          "name": "stdout"
        }
      ]
    },
    {
      "cell_type": "code",
      "metadata": {
        "id": "EDUWokK9eUqp",
        "colab_type": "code",
        "colab": {
          "base_uri": "https://localhost:8080/",
          "height": 54
        },
        "outputId": "986888fe-e3a9-4d68-f243-75fbaed00fd2"
      },
      "source": [
        "'''\n",
        "x1 + x1^2 + x1x2 + x1^3 + x1^2 x2 + x1 x2^2 + x1^4 + x1^3 x2\n",
        "+ x1^2 x2^2 + x1 x2^3\n",
        "F10 = x1\n",
        "F20 = x1^2\n",
        "F21 = x1 x2\n",
        "F30 = x1^3\n",
        "F31 = x1^2 x2\n",
        "F32 = x1 x2^2\n",
        "F40 = x1^4\n",
        "F41 = x1^3 x2\n",
        "F42 = x1^2 x2^2\n",
        "F43 = x1 x2^3\n",
        "'''\n"
      ],
      "execution_count": 9,
      "outputs": [
        {
          "output_type": "execute_result",
          "data": {
            "text/plain": [
              "'\\nx1 + x1^2 + x1x2 + x1^3 + x1^2 x2 + x1 x2^2 + x1^4 + x1^3 x2\\n+ x1^2 x2^2 + x1 x2^3\\nF10 = x1\\nF20 = x1^2\\nF21 = x1 x2\\nF30 = x1^3\\nF31 = x1^2 x2\\nF32 = x1 x2^2\\nF40 = x1^4\\nF41 = x1^3 x2\\nF42 = x1^2 x2^2\\nF43 = x1 x2^3\\n'"
            ]
          },
          "metadata": {
            "tags": []
          },
          "execution_count": 9
        }
      ]
    }
  ]
}